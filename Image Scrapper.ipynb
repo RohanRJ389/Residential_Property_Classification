{
 "cells": [
  {
   "cell_type": "code",
   "execution_count": 1,
   "id": "cc2f9d4c",
   "metadata": {},
   "outputs": [],
   "source": [
    "import os\n",
    "import requests\n",
    "\n",
    "from bs4 import BeautifulSoup as bs"
   ]
  },
  {
   "cell_type": "code",
   "execution_count": null,
   "id": "888c917a",
   "metadata": {},
   "outputs": [],
   "source": [
    "source_links =[]\n",
    "\n"
   ]
  },
  {
   "cell_type": "code",
   "execution_count": 58,
   "id": "094b30de",
   "metadata": {},
   "outputs": [],
   "source": [
    "source_link=\"https://www.magicbricks.com/property-for-sale/residential-real-estate?bedroom=&proptype=Residential-House,Villa&cityName=Mumbai\""
   ]
  },
  {
   "cell_type": "code",
   "execution_count": 59,
   "id": "fd80d89e",
   "metadata": {},
   "outputs": [
    {
     "name": "stdout",
     "output_type": "stream",
     "text": [
      "Saved image: 0270.jpg\n",
      "Saved image: 0271.jpg\n",
      "Saved image: 0272.jpg\n",
      "Saved image: 0273.jpg\n",
      "Saved image: 0274.jpg\n",
      "Saved image: 0275.jpg\n",
      "Saved image: 0276.jpg\n",
      "Saved image: 0277.jpg\n",
      "Saved image: 0278.jpg\n",
      "Saved image: 0279.jpg\n",
      "Saved image: 0280.jpg\n",
      "Saved image: 0281.jpg\n",
      "Saved image: 0282.jpg\n",
      "Saved image: 0283.jpg\n",
      "Saved image: 0284.jpg\n",
      "Saved image: 0285.jpg\n",
      "Saved image: 0286.jpg\n",
      "Saved image: 0287.jpg\n",
      "Saved image: 0288.jpg\n",
      "Saved image: 0289.jpg\n",
      "Saved image: 0290.jpg\n",
      "Saved image: 0291.jpg\n",
      "Saved image: 0292.jpg\n",
      "Saved image: 0293.jpg\n",
      "Saved image: 0294.jpg\n",
      "Saved image: 0295.jpg\n",
      "Saved image: 0296.jpg\n",
      "Saved image: 0297.jpg\n",
      "Saved image: 0298.jpg\n",
      "Saved image: 0299.jpg\n"
     ]
    }
   ],
   "source": [
    "\n",
    "folder_path = r\"C:\\Users\\Dell\\Desktop\\ML\\DataSet\\Houses_indianproperty.com\"\n",
    "if not os.path.exists(folder_path): \n",
    "    os.makedirs(folder_path)\n",
    "response = requests.get(source_link) \n",
    "html_content = response.text \n",
    "soup = bs(html_content, \"html.parser\") \n",
    "image_tags = soup.find_all(\"img\", class_=\"dis-block img-width-height lazy\")\n",
    "textfile=r\"C:\\Users\\Dell\\Desktop\\ML\\DataSet\\Houses_indianproperty.com\\count.txt\"\n",
    "file = open(textfile, \"r\")\n",
    "counter=int(file.read())\n",
    "file.close\n",
    "for image in image_tags:\n",
    "    try:\n",
    "        image_url = image[\"data-src\"]  # Extract the image URL\n",
    "        image_response = requests.get(image_url) # Send a GET request to download the image\n",
    "        serial=\"{:04d}\".format(counter)\n",
    "        image_name = serial+ \".jpg\"# Specify the image file name\n",
    "        image_path = os.path.join(folder_path, image_name) # Save the image to the specified folder\n",
    "        with open(image_path, \"wb\") as image_file:\n",
    "            image_file.write(image_response.content)\n",
    "        print(f\"Saved image: {image_name}\")\n",
    "        counter+=1\n",
    "    except requests.exceptions.RequestException as e:\n",
    "        print(f\"Error downloading image: {image_url} - {e}\")\n",
    "file = open(textfile, \"w\")\n",
    "file.write(str(counter))\n",
    "file.close()"
   ]
  },
  {
   "cell_type": "code",
   "execution_count": 39,
   "id": "4d3de4ef",
   "metadata": {},
   "outputs": [],
   "source": []
  },
  {
   "cell_type": "code",
   "execution_count": 40,
   "id": "5402c9c1",
   "metadata": {},
   "outputs": [
    {
     "data": {
      "text/plain": [
       "<function TextIOWrapper.close()>"
      ]
     },
     "execution_count": 40,
     "metadata": {},
     "output_type": "execute_result"
    }
   ],
   "source": []
  },
  {
   "cell_type": "code",
   "execution_count": 41,
   "id": "54a84f72",
   "metadata": {},
   "outputs": [
    {
     "name": "stdout",
     "output_type": "stream",
     "text": [
      "Saved image: 0123.jpg\n",
      "Saved image: 0124.jpg\n",
      "Saved image: 0125.jpg\n",
      "Saved image: 0126.jpg\n",
      "Saved image: 0127.jpg\n",
      "Saved image: 0128.jpg\n",
      "Saved image: 0129.jpg\n",
      "Saved image: 0130.jpg\n",
      "Saved image: 0131.jpg\n",
      "Saved image: 0132.jpg\n",
      "Saved image: 0133.jpg\n",
      "Saved image: 0134.jpg\n",
      "Saved image: 0135.jpg\n",
      "Saved image: 0136.jpg\n",
      "Saved image: 0137.jpg\n"
     ]
    }
   ],
   "source": [
    "\n"
   ]
  },
  {
   "cell_type": "code",
   "execution_count": 42,
   "id": "912bc2e9",
   "metadata": {},
   "outputs": [],
   "source": []
  },
  {
   "cell_type": "code",
   "execution_count": null,
   "id": "fdba0733",
   "metadata": {},
   "outputs": [],
   "source": []
  },
  {
   "cell_type": "code",
   "execution_count": null,
   "id": "d65e4136",
   "metadata": {},
   "outputs": [],
   "source": []
  }
 ],
 "metadata": {
  "kernelspec": {
   "display_name": "Python 3 (ipykernel)",
   "language": "python",
   "name": "python3"
  },
  "language_info": {
   "codemirror_mode": {
    "name": "ipython",
    "version": 3
   },
   "file_extension": ".py",
   "mimetype": "text/x-python",
   "name": "python",
   "nbconvert_exporter": "python",
   "pygments_lexer": "ipython3",
   "version": "3.8.16"
  }
 },
 "nbformat": 4,
 "nbformat_minor": 5
}
